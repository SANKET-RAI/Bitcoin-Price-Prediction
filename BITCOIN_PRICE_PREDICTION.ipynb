{
  "nbformat": 4,
  "nbformat_minor": 0,
  "metadata": {
    "colab": {
      "name": "(306239)_BITCOIN_PRICE_PREDICTION_ML_PROJECT_BY_SANKET_RAI.ipynb",
      "provenance": []
    },
    "kernelspec": {
      "name": "python3",
      "display_name": "Python 3"
    }
  },
  "cells": [
    {
      "cell_type": "markdown",
      "metadata": {
        "id": "F_okpITYW6uJ"
      },
      "source": [
        "# **MACHINE LEARNING MINI PROJECT SUBMITTED BY :-**\n",
        "# **Name : SANKET YOGESH RAI**\n",
        "# **Class : TY-02-CSE**\n",
        "# **Roll No : 306239**\n",
        "# **Project Topic : Bitcoin Price Prediction**\n",
        "# **Dataset Used : Cryptocurrency Historical Prices (Source : Kaggle)**"
      ]
    },
    {
      "cell_type": "markdown",
      "metadata": {
        "id": "77mzJ2Vljqa-"
      },
      "source": [
        "## **THIS PROGRAM PRIDICTS BITCOIN'S PRICE FOR FUTURE 30 DAYS BASED ON PROVIDED HISTORICAL DATA**"
      ]
    },
    {
      "cell_type": "markdown",
      "metadata": {
        "id": "HbCPH1Fyip7h"
      },
      "source": [
        "**IMPORTING LIBRARIES AND UPLOADING DATA**"
      ]
    },
    {
      "cell_type": "code",
      "metadata": {
        "id": "jRTUwb03inSy"
      },
      "source": [
        "#importing required libraries\n",
        "\n",
        "import pandas as pd\n",
        "import numpy as np\n",
        "import matplotlib.pyplot as plt\n",
        "import seaborn as sns"
      ],
      "execution_count": null,
      "outputs": []
    },
    {
      "cell_type": "code",
      "metadata": {
        "colab": {
          "resources": {
            "http://localhost:8080/nbextensions/google.colab/files.js": {
              "data": "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",
              "ok": true,
              "headers": [
                [
                  "content-type",
                  "application/javascript"
                ]
              ],
              "status": 200,
              "status_text": ""
            }
          },
          "base_uri": "https://localhost:8080/",
          "height": 73
        },
        "id": "CW5DB3vBkXnT",
        "outputId": "5ec72393-85f2-4e6c-f30b-89f56ee7376d"
      },
      "source": [
        "#uploading th data\n",
        "\n",
        "from google.colab import files \n",
        "uploaded = files.upload()"
      ],
      "execution_count": null,
      "outputs": [
        {
          "output_type": "display_data",
          "data": {
            "text/html": [
              "\n",
              "     <input type=\"file\" id=\"files-b6760c06-8a69-4e5c-b5fc-2671b5963bfa\" name=\"files[]\" multiple disabled\n",
              "        style=\"border:none\" />\n",
              "     <output id=\"result-b6760c06-8a69-4e5c-b5fc-2671b5963bfa\">\n",
              "      Upload widget is only available when the cell has been executed in the\n",
              "      current browser session. Please rerun this cell to enable.\n",
              "      </output>\n",
              "      <script src=\"/nbextensions/google.colab/files.js\"></script> "
            ],
            "text/plain": [
              "<IPython.core.display.HTML object>"
            ]
          },
          "metadata": {
            "tags": []
          }
        },
        {
          "output_type": "stream",
          "text": [
            "Saving bitcoin_price.csv to bitcoin_price.csv\n"
          ],
          "name": "stdout"
        }
      ]
    },
    {
      "cell_type": "code",
      "metadata": {
        "id": "EptNUiczkeGQ"
      },
      "source": [
        "#loading the dataset\n",
        "path = r\"bitcoin_price.csv\"\n",
        "df  = pd.read_csv(path)"
      ],
      "execution_count": null,
      "outputs": []
    },
    {
      "cell_type": "markdown",
      "metadata": {
        "id": "c6HnvUnBlXqC"
      },
      "source": [
        "**OBSERVE THE DATA**"
      ]
    },
    {
      "cell_type": "code",
      "metadata": {
        "colab": {
          "base_uri": "https://localhost:8080/",
          "height": 195
        },
        "id": "rJhpp-dek4-K",
        "outputId": "5f23a268-e1e9-4da8-b23b-9cf8f5bfb84d"
      },
      "source": [
        "df.head()"
      ],
      "execution_count": null,
      "outputs": [
        {
          "output_type": "execute_result",
          "data": {
            "text/html": [
              "<div>\n",
              "<style scoped>\n",
              "    .dataframe tbody tr th:only-of-type {\n",
              "        vertical-align: middle;\n",
              "    }\n",
              "\n",
              "    .dataframe tbody tr th {\n",
              "        vertical-align: top;\n",
              "    }\n",
              "\n",
              "    .dataframe thead th {\n",
              "        text-align: right;\n",
              "    }\n",
              "</style>\n",
              "<table border=\"1\" class=\"dataframe\">\n",
              "  <thead>\n",
              "    <tr style=\"text-align: right;\">\n",
              "      <th></th>\n",
              "      <th>Date</th>\n",
              "      <th>Open</th>\n",
              "      <th>High</th>\n",
              "      <th>Low</th>\n",
              "      <th>Close</th>\n",
              "      <th>Volume</th>\n",
              "      <th>Market Cap</th>\n",
              "    </tr>\n",
              "  </thead>\n",
              "  <tbody>\n",
              "    <tr>\n",
              "      <th>0</th>\n",
              "      <td>Feb 20, 2018</td>\n",
              "      <td>11231.8</td>\n",
              "      <td>11958.5</td>\n",
              "      <td>11231.80</td>\n",
              "      <td>11403.7</td>\n",
              "      <td>9,926,540,000</td>\n",
              "      <td>189,536,000,000</td>\n",
              "    </tr>\n",
              "    <tr>\n",
              "      <th>1</th>\n",
              "      <td>Feb 19, 2018</td>\n",
              "      <td>10552.6</td>\n",
              "      <td>11273.8</td>\n",
              "      <td>10513.20</td>\n",
              "      <td>11225.3</td>\n",
              "      <td>7,652,090,000</td>\n",
              "      <td>178,055,000,000</td>\n",
              "    </tr>\n",
              "    <tr>\n",
              "      <th>2</th>\n",
              "      <td>Feb 18, 2018</td>\n",
              "      <td>11123.4</td>\n",
              "      <td>11349.8</td>\n",
              "      <td>10326.00</td>\n",
              "      <td>10551.8</td>\n",
              "      <td>8,744,010,000</td>\n",
              "      <td>187,663,000,000</td>\n",
              "    </tr>\n",
              "    <tr>\n",
              "      <th>3</th>\n",
              "      <td>Feb 17, 2018</td>\n",
              "      <td>10207.5</td>\n",
              "      <td>11139.5</td>\n",
              "      <td>10149.40</td>\n",
              "      <td>11112.7</td>\n",
              "      <td>8,660,880,000</td>\n",
              "      <td>172,191,000,000</td>\n",
              "    </tr>\n",
              "    <tr>\n",
              "      <th>4</th>\n",
              "      <td>Feb 16, 2018</td>\n",
              "      <td>10135.7</td>\n",
              "      <td>10324.1</td>\n",
              "      <td>9824.82</td>\n",
              "      <td>10233.9</td>\n",
              "      <td>7,296,160,000</td>\n",
              "      <td>170,960,000,000</td>\n",
              "    </tr>\n",
              "  </tbody>\n",
              "</table>\n",
              "</div>"
            ],
            "text/plain": [
              "           Date     Open     High  ...    Close         Volume       Market Cap\n",
              "0  Feb 20, 2018  11231.8  11958.5  ...  11403.7  9,926,540,000  189,536,000,000\n",
              "1  Feb 19, 2018  10552.6  11273.8  ...  11225.3  7,652,090,000  178,055,000,000\n",
              "2  Feb 18, 2018  11123.4  11349.8  ...  10551.8  8,744,010,000  187,663,000,000\n",
              "3  Feb 17, 2018  10207.5  11139.5  ...  11112.7  8,660,880,000  172,191,000,000\n",
              "4  Feb 16, 2018  10135.7  10324.1  ...  10233.9  7,296,160,000  170,960,000,000\n",
              "\n",
              "[5 rows x 7 columns]"
            ]
          },
          "metadata": {
            "tags": []
          },
          "execution_count": 6
        }
      ]
    },
    {
      "cell_type": "code",
      "metadata": {
        "colab": {
          "base_uri": "https://localhost:8080/",
          "height": 195
        },
        "id": "XHFjh5H0k6H8",
        "outputId": "497f0950-bf6e-4f8f-b7ac-2d7e31037ffb"
      },
      "source": [
        "df.tail()"
      ],
      "execution_count": null,
      "outputs": [
        {
          "output_type": "execute_result",
          "data": {
            "text/html": [
              "<div>\n",
              "<style scoped>\n",
              "    .dataframe tbody tr th:only-of-type {\n",
              "        vertical-align: middle;\n",
              "    }\n",
              "\n",
              "    .dataframe tbody tr th {\n",
              "        vertical-align: top;\n",
              "    }\n",
              "\n",
              "    .dataframe thead th {\n",
              "        text-align: right;\n",
              "    }\n",
              "</style>\n",
              "<table border=\"1\" class=\"dataframe\">\n",
              "  <thead>\n",
              "    <tr style=\"text-align: right;\">\n",
              "      <th></th>\n",
              "      <th>Date</th>\n",
              "      <th>Open</th>\n",
              "      <th>High</th>\n",
              "      <th>Low</th>\n",
              "      <th>Close</th>\n",
              "      <th>Volume</th>\n",
              "      <th>Market Cap</th>\n",
              "    </tr>\n",
              "  </thead>\n",
              "  <tbody>\n",
              "    <tr>\n",
              "      <th>1755</th>\n",
              "      <td>May 02, 2013</td>\n",
              "      <td>116.38</td>\n",
              "      <td>125.60</td>\n",
              "      <td>92.28</td>\n",
              "      <td>105.21</td>\n",
              "      <td>-</td>\n",
              "      <td>1,292,190,000</td>\n",
              "    </tr>\n",
              "    <tr>\n",
              "      <th>1756</th>\n",
              "      <td>May 01, 2013</td>\n",
              "      <td>139.00</td>\n",
              "      <td>139.89</td>\n",
              "      <td>107.72</td>\n",
              "      <td>116.99</td>\n",
              "      <td>-</td>\n",
              "      <td>1,542,820,000</td>\n",
              "    </tr>\n",
              "    <tr>\n",
              "      <th>1757</th>\n",
              "      <td>Apr 30, 2013</td>\n",
              "      <td>144.00</td>\n",
              "      <td>146.93</td>\n",
              "      <td>134.05</td>\n",
              "      <td>139.00</td>\n",
              "      <td>-</td>\n",
              "      <td>1,597,780,000</td>\n",
              "    </tr>\n",
              "    <tr>\n",
              "      <th>1758</th>\n",
              "      <td>Apr 29, 2013</td>\n",
              "      <td>134.44</td>\n",
              "      <td>147.49</td>\n",
              "      <td>134.00</td>\n",
              "      <td>144.54</td>\n",
              "      <td>-</td>\n",
              "      <td>1,491,160,000</td>\n",
              "    </tr>\n",
              "    <tr>\n",
              "      <th>1759</th>\n",
              "      <td>Apr 28, 2013</td>\n",
              "      <td>135.30</td>\n",
              "      <td>135.98</td>\n",
              "      <td>132.10</td>\n",
              "      <td>134.21</td>\n",
              "      <td>-</td>\n",
              "      <td>1,500,520,000</td>\n",
              "    </tr>\n",
              "  </tbody>\n",
              "</table>\n",
              "</div>"
            ],
            "text/plain": [
              "              Date    Open    High     Low   Close Volume     Market Cap\n",
              "1755  May 02, 2013  116.38  125.60   92.28  105.21      -  1,292,190,000\n",
              "1756  May 01, 2013  139.00  139.89  107.72  116.99      -  1,542,820,000\n",
              "1757  Apr 30, 2013  144.00  146.93  134.05  139.00      -  1,597,780,000\n",
              "1758  Apr 29, 2013  134.44  147.49  134.00  144.54      -  1,491,160,000\n",
              "1759  Apr 28, 2013  135.30  135.98  132.10  134.21      -  1,500,520,000"
            ]
          },
          "metadata": {
            "tags": []
          },
          "execution_count": 7
        }
      ]
    },
    {
      "cell_type": "code",
      "metadata": {
        "colab": {
          "base_uri": "https://localhost:8080/"
        },
        "id": "gmZjETw9k9xr",
        "outputId": "655b6910-4658-4abe-da02-097146866eae"
      },
      "source": [
        "df.shape"
      ],
      "execution_count": null,
      "outputs": [
        {
          "output_type": "execute_result",
          "data": {
            "text/plain": [
              "(1760, 7)"
            ]
          },
          "metadata": {
            "tags": []
          },
          "execution_count": 8
        }
      ]
    },
    {
      "cell_type": "markdown",
      "metadata": {
        "id": "yl3KsOVslSHM"
      },
      "source": [
        "**MODIFYING THE DATA ACCORDING TO REQUIREMENT**"
      ]
    },
    {
      "cell_type": "code",
      "metadata": {
        "id": "XSZxm93ilBlQ"
      },
      "source": [
        "#Removing useless columns\n",
        "df = df.drop(['Date','High','Low','Open','Volume','Market Cap'], axis=1)"
      ],
      "execution_count": null,
      "outputs": []
    },
    {
      "cell_type": "code",
      "metadata": {
        "id": "gNbMT2z8lwjV"
      },
      "source": [
        "#Renaming the open column as price column\n",
        "df = df.rename(columns = {'Close': 'Price'}, inplace = False)"
      ],
      "execution_count": null,
      "outputs": []
    },
    {
      "cell_type": "code",
      "metadata": {
        "colab": {
          "base_uri": "https://localhost:8080/",
          "height": 195
        },
        "id": "3RZLi1_hl0AX",
        "outputId": "c0dd6204-489d-4cd1-beb9-f4febcc017a5"
      },
      "source": [
        "df.head()"
      ],
      "execution_count": null,
      "outputs": [
        {
          "output_type": "execute_result",
          "data": {
            "text/html": [
              "<div>\n",
              "<style scoped>\n",
              "    .dataframe tbody tr th:only-of-type {\n",
              "        vertical-align: middle;\n",
              "    }\n",
              "\n",
              "    .dataframe tbody tr th {\n",
              "        vertical-align: top;\n",
              "    }\n",
              "\n",
              "    .dataframe thead th {\n",
              "        text-align: right;\n",
              "    }\n",
              "</style>\n",
              "<table border=\"1\" class=\"dataframe\">\n",
              "  <thead>\n",
              "    <tr style=\"text-align: right;\">\n",
              "      <th></th>\n",
              "      <th>Price</th>\n",
              "    </tr>\n",
              "  </thead>\n",
              "  <tbody>\n",
              "    <tr>\n",
              "      <th>0</th>\n",
              "      <td>11403.7</td>\n",
              "    </tr>\n",
              "    <tr>\n",
              "      <th>1</th>\n",
              "      <td>11225.3</td>\n",
              "    </tr>\n",
              "    <tr>\n",
              "      <th>2</th>\n",
              "      <td>10551.8</td>\n",
              "    </tr>\n",
              "    <tr>\n",
              "      <th>3</th>\n",
              "      <td>11112.7</td>\n",
              "    </tr>\n",
              "    <tr>\n",
              "      <th>4</th>\n",
              "      <td>10233.9</td>\n",
              "    </tr>\n",
              "  </tbody>\n",
              "</table>\n",
              "</div>"
            ],
            "text/plain": [
              "     Price\n",
              "0  11403.7\n",
              "1  11225.3\n",
              "2  10551.8\n",
              "3  11112.7\n",
              "4  10233.9"
            ]
          },
          "metadata": {
            "tags": []
          },
          "execution_count": 11
        }
      ]
    },
    {
      "cell_type": "code",
      "metadata": {
        "colab": {
          "base_uri": "https://localhost:8080/",
          "height": 195
        },
        "id": "f8MkGRJ1mBn8",
        "outputId": "15ed6a6f-9b54-4467-a64e-281a5542e55d"
      },
      "source": [
        "df.tail()"
      ],
      "execution_count": null,
      "outputs": [
        {
          "output_type": "execute_result",
          "data": {
            "text/html": [
              "<div>\n",
              "<style scoped>\n",
              "    .dataframe tbody tr th:only-of-type {\n",
              "        vertical-align: middle;\n",
              "    }\n",
              "\n",
              "    .dataframe tbody tr th {\n",
              "        vertical-align: top;\n",
              "    }\n",
              "\n",
              "    .dataframe thead th {\n",
              "        text-align: right;\n",
              "    }\n",
              "</style>\n",
              "<table border=\"1\" class=\"dataframe\">\n",
              "  <thead>\n",
              "    <tr style=\"text-align: right;\">\n",
              "      <th></th>\n",
              "      <th>Price</th>\n",
              "    </tr>\n",
              "  </thead>\n",
              "  <tbody>\n",
              "    <tr>\n",
              "      <th>1755</th>\n",
              "      <td>105.21</td>\n",
              "    </tr>\n",
              "    <tr>\n",
              "      <th>1756</th>\n",
              "      <td>116.99</td>\n",
              "    </tr>\n",
              "    <tr>\n",
              "      <th>1757</th>\n",
              "      <td>139.00</td>\n",
              "    </tr>\n",
              "    <tr>\n",
              "      <th>1758</th>\n",
              "      <td>144.54</td>\n",
              "    </tr>\n",
              "    <tr>\n",
              "      <th>1759</th>\n",
              "      <td>134.21</td>\n",
              "    </tr>\n",
              "  </tbody>\n",
              "</table>\n",
              "</div>"
            ],
            "text/plain": [
              "       Price\n",
              "1755  105.21\n",
              "1756  116.99\n",
              "1757  139.00\n",
              "1758  144.54\n",
              "1759  134.21"
            ]
          },
          "metadata": {
            "tags": []
          },
          "execution_count": 12
        }
      ]
    },
    {
      "cell_type": "code",
      "metadata": {
        "colab": {
          "base_uri": "https://localhost:8080/"
        },
        "id": "eB1pzarjmEkI",
        "outputId": "c90c789c-2e89-476f-823a-567736d68ff0"
      },
      "source": [
        "df.shape"
      ],
      "execution_count": null,
      "outputs": [
        {
          "output_type": "execute_result",
          "data": {
            "text/plain": [
              "(1760, 1)"
            ]
          },
          "metadata": {
            "tags": []
          },
          "execution_count": 13
        }
      ]
    },
    {
      "cell_type": "markdown",
      "metadata": {
        "id": "a6p1TBX5mIyB"
      },
      "source": [
        "**CREATING PREDICTION DAYS VARIABLE AND SHIFTING DATA UPTO THAT MANY DAYS**"
      ]
    },
    {
      "cell_type": "code",
      "metadata": {
        "id": "OUyIczrGmHN6"
      },
      "source": [
        "#Declaration of a variable called prediction days\n",
        "prediction_days = 30"
      ],
      "execution_count": null,
      "outputs": []
    },
    {
      "cell_type": "code",
      "metadata": {
        "id": "is4a_8aLmahm"
      },
      "source": [
        "#Creating another column 'Prediction' shifted 30 days up\n",
        "df['Prediction'] = df[['Price']].shift(-prediction_days)"
      ],
      "execution_count": null,
      "outputs": []
    },
    {
      "cell_type": "code",
      "metadata": {
        "colab": {
          "base_uri": "https://localhost:8080/",
          "height": 195
        },
        "id": "UpcJhs2JmdTQ",
        "outputId": "bc4f5d52-253b-4db8-a397-2b710b7e19d3"
      },
      "source": [
        "df.head()"
      ],
      "execution_count": null,
      "outputs": [
        {
          "output_type": "execute_result",
          "data": {
            "text/html": [
              "<div>\n",
              "<style scoped>\n",
              "    .dataframe tbody tr th:only-of-type {\n",
              "        vertical-align: middle;\n",
              "    }\n",
              "\n",
              "    .dataframe tbody tr th {\n",
              "        vertical-align: top;\n",
              "    }\n",
              "\n",
              "    .dataframe thead th {\n",
              "        text-align: right;\n",
              "    }\n",
              "</style>\n",
              "<table border=\"1\" class=\"dataframe\">\n",
              "  <thead>\n",
              "    <tr style=\"text-align: right;\">\n",
              "      <th></th>\n",
              "      <th>Price</th>\n",
              "      <th>Prediction</th>\n",
              "    </tr>\n",
              "  </thead>\n",
              "  <tbody>\n",
              "    <tr>\n",
              "      <th>0</th>\n",
              "      <td>11403.7</td>\n",
              "      <td>11600.1</td>\n",
              "    </tr>\n",
              "    <tr>\n",
              "      <th>1</th>\n",
              "      <td>11225.3</td>\n",
              "      <td>12899.2</td>\n",
              "    </tr>\n",
              "    <tr>\n",
              "      <th>2</th>\n",
              "      <td>10551.8</td>\n",
              "      <td>11607.4</td>\n",
              "    </tr>\n",
              "    <tr>\n",
              "      <th>3</th>\n",
              "      <td>11112.7</td>\n",
              "      <td>11474.9</td>\n",
              "    </tr>\n",
              "    <tr>\n",
              "      <th>4</th>\n",
              "      <td>10233.9</td>\n",
              "      <td>11188.6</td>\n",
              "    </tr>\n",
              "  </tbody>\n",
              "</table>\n",
              "</div>"
            ],
            "text/plain": [
              "     Price  Prediction\n",
              "0  11403.7     11600.1\n",
              "1  11225.3     12899.2\n",
              "2  10551.8     11607.4\n",
              "3  11112.7     11474.9\n",
              "4  10233.9     11188.6"
            ]
          },
          "metadata": {
            "tags": []
          },
          "execution_count": 16
        }
      ]
    },
    {
      "cell_type": "code",
      "metadata": {
        "colab": {
          "base_uri": "https://localhost:8080/",
          "height": 195
        },
        "id": "sZnZe1frmgpK",
        "outputId": "ed9d24e1-7493-4c4b-b7ec-35610e33b4d5"
      },
      "source": [
        "df.tail()"
      ],
      "execution_count": null,
      "outputs": [
        {
          "output_type": "execute_result",
          "data": {
            "text/html": [
              "<div>\n",
              "<style scoped>\n",
              "    .dataframe tbody tr th:only-of-type {\n",
              "        vertical-align: middle;\n",
              "    }\n",
              "\n",
              "    .dataframe tbody tr th {\n",
              "        vertical-align: top;\n",
              "    }\n",
              "\n",
              "    .dataframe thead th {\n",
              "        text-align: right;\n",
              "    }\n",
              "</style>\n",
              "<table border=\"1\" class=\"dataframe\">\n",
              "  <thead>\n",
              "    <tr style=\"text-align: right;\">\n",
              "      <th></th>\n",
              "      <th>Price</th>\n",
              "      <th>Prediction</th>\n",
              "    </tr>\n",
              "  </thead>\n",
              "  <tbody>\n",
              "    <tr>\n",
              "      <th>1755</th>\n",
              "      <td>105.21</td>\n",
              "      <td>NaN</td>\n",
              "    </tr>\n",
              "    <tr>\n",
              "      <th>1756</th>\n",
              "      <td>116.99</td>\n",
              "      <td>NaN</td>\n",
              "    </tr>\n",
              "    <tr>\n",
              "      <th>1757</th>\n",
              "      <td>139.00</td>\n",
              "      <td>NaN</td>\n",
              "    </tr>\n",
              "    <tr>\n",
              "      <th>1758</th>\n",
              "      <td>144.54</td>\n",
              "      <td>NaN</td>\n",
              "    </tr>\n",
              "    <tr>\n",
              "      <th>1759</th>\n",
              "      <td>134.21</td>\n",
              "      <td>NaN</td>\n",
              "    </tr>\n",
              "  </tbody>\n",
              "</table>\n",
              "</div>"
            ],
            "text/plain": [
              "       Price  Prediction\n",
              "1755  105.21         NaN\n",
              "1756  116.99         NaN\n",
              "1757  139.00         NaN\n",
              "1758  144.54         NaN\n",
              "1759  134.21         NaN"
            ]
          },
          "metadata": {
            "tags": []
          },
          "execution_count": 17
        }
      ]
    },
    {
      "cell_type": "code",
      "metadata": {
        "colab": {
          "base_uri": "https://localhost:8080/"
        },
        "id": "0GD0yE6Lmjyr",
        "outputId": "422a15fa-3657-4e11-99d9-aa6ea40720bc"
      },
      "source": [
        "df.shape"
      ],
      "execution_count": null,
      "outputs": [
        {
          "output_type": "execute_result",
          "data": {
            "text/plain": [
              "(1760, 2)"
            ]
          },
          "metadata": {
            "tags": []
          },
          "execution_count": 18
        }
      ]
    },
    {
      "cell_type": "markdown",
      "metadata": {
        "id": "HdiRwHQjm0HX"
      },
      "source": [
        "**CREATE INDEPENDENT DATA SET**"
      ]
    },
    {
      "cell_type": "code",
      "metadata": {
        "colab": {
          "base_uri": "https://localhost:8080/"
        },
        "id": "bdMsSX-5mloN",
        "outputId": "1cdc5262-fda5-4a59-c04c-3a73137e978f"
      },
      "source": [
        "#convert dataframe to numpy array and drop the prediction column\n",
        "X = np.array(df.drop(['Prediction'], 1))\n",
        "\n",
        "#remove the last 'n' rows where 'n' is the prediction_days\n",
        "X = X[:len(df)-prediction_days]\n",
        "\n",
        "print(X)"
      ],
      "execution_count": null,
      "outputs": [
        {
          "output_type": "stream",
          "text": [
            "[[11403.7]\n",
            " [11225.3]\n",
            " [10551.8]\n",
            " ...\n",
            " [  128.8]\n",
            " [  132.3]\n",
            " [  129. ]]\n"
          ],
          "name": "stdout"
        }
      ]
    },
    {
      "cell_type": "markdown",
      "metadata": {
        "id": "wqP8QURFoByf"
      },
      "source": [
        "**CREATE THE DEPENDENT DATASET**"
      ]
    },
    {
      "cell_type": "code",
      "metadata": {
        "colab": {
          "base_uri": "https://localhost:8080/"
        },
        "id": "PlkvTNEMnTdf",
        "outputId": "05150f95-d494-46b0-9a70-5e6bb2bfdc28"
      },
      "source": [
        "#convert dataframe to numpy array\n",
        "y = np.array(df['Prediction'])\n",
        "\n",
        "#get all the values except the last 'n' rows\n",
        "y = y[:-prediction_days]\n",
        "\n",
        "print(y)"
      ],
      "execution_count": null,
      "outputs": [
        {
          "output_type": "stream",
          "text": [
            "[11600.1  12899.2  11607.4  ...   139.     144.54   134.21]\n"
          ],
          "name": "stdout"
        }
      ]
    },
    {
      "cell_type": "markdown",
      "metadata": {
        "id": "LMj7Q0hOprqK"
      },
      "source": [
        "**SPLIT THE DATASET INTO 80% TRAINING AND 20% TESTING**"
      ]
    },
    {
      "cell_type": "code",
      "metadata": {
        "id": "Qp9UNiO3oy0j"
      },
      "source": [
        "from sklearn.model_selection import train_test_split\n",
        "x_train, x_test, y_train, y_test = train_test_split(X,y, test_size = 0.2)"
      ],
      "execution_count": null,
      "outputs": []
    },
    {
      "cell_type": "code",
      "metadata": {
        "colab": {
          "base_uri": "https://localhost:8080/"
        },
        "id": "wZSF61nprjMJ",
        "outputId": "0f04b4d2-524b-4364-ca0e-26a2aaf31c0e"
      },
      "source": [
        "#set the prediction_days_array equal to the last 30 rows from the original data set\n",
        "prediction_days_array = np.array(df.drop(['Prediction'], 1))[-prediction_days:]\n",
        "\n",
        "print(prediction_days_array)"
      ],
      "execution_count": null,
      "outputs": [
        {
          "output_type": "stream",
          "text": [
            "[[129.75]\n",
            " [133.48]\n",
            " [131.98]\n",
            " [133.2 ]\n",
            " [126.7 ]\n",
            " [123.89]\n",
            " [122.88]\n",
            " [122.  ]\n",
            " [121.99]\n",
            " [123.5 ]\n",
            " [123.02]\n",
            " [118.76]\n",
            " [114.22]\n",
            " [111.5 ]\n",
            " [117.98]\n",
            " [115.  ]\n",
            " [115.24]\n",
            " [117.2 ]\n",
            " [112.67]\n",
            " [113.57]\n",
            " [111.5 ]\n",
            " [112.3 ]\n",
            " [115.91]\n",
            " [112.5 ]\n",
            " [ 97.75]\n",
            " [105.21]\n",
            " [116.99]\n",
            " [139.  ]\n",
            " [144.54]\n",
            " [134.21]]\n"
          ],
          "name": "stdout"
        }
      ]
    },
    {
      "cell_type": "markdown",
      "metadata": {
        "id": "HArqu5PooYSq"
      },
      "source": [
        "**FIRST ALGORITHM**"
      ]
    },
    {
      "cell_type": "markdown",
      "metadata": {
        "id": "Cb8OnHXDtZBT"
      },
      "source": [
        "**CREATE AND TRAIN THE SUPPORT VECTOR MACHINE (REGRESSION) USING VECTOR RADIAL BASIS FUNCTION**"
      ]
    },
    {
      "cell_type": "code",
      "metadata": {
        "colab": {
          "base_uri": "https://localhost:8080/"
        },
        "id": "naEd--zntH0K",
        "outputId": "7acb94f1-fdf0-43ef-af60-67eb6038b681"
      },
      "source": [
        "from sklearn.svm import SVR\n",
        "\n",
        "svr_rbf = SVR(kernel='rbf', C=1e3, gamma=0.00001)\n",
        "svr_rbf.fit(x_train, y_train)"
      ],
      "execution_count": null,
      "outputs": [
        {
          "output_type": "execute_result",
          "data": {
            "text/plain": [
              "SVR(C=1000.0, cache_size=200, coef0=0.0, degree=3, epsilon=0.1, gamma=1e-05,\n",
              "    kernel='rbf', max_iter=-1, shrinking=True, tol=0.001, verbose=False)"
            ]
          },
          "metadata": {
            "tags": []
          },
          "execution_count": 23
        }
      ]
    },
    {
      "cell_type": "markdown",
      "metadata": {
        "id": "sJtj32yxu6K4"
      },
      "source": [
        "**TEST THE MODEL**"
      ]
    },
    {
      "cell_type": "code",
      "metadata": {
        "colab": {
          "base_uri": "https://localhost:8080/"
        },
        "id": "JeYXaH8cutgo",
        "outputId": "aad72bd9-e4ae-4e68-cc56-1c0aa9da47cc"
      },
      "source": [
        "svr_rbf_confidence = svr_rbf.score(x_test, y_test)\n",
        "\n",
        "print(\"svr_rbf accuracy: \", svr_rbf_confidence)"
      ],
      "execution_count": null,
      "outputs": [
        {
          "output_type": "stream",
          "text": [
            "svr_rbf accuracy:  0.737848976267161\n"
          ],
          "name": "stdout"
        }
      ]
    },
    {
      "cell_type": "markdown",
      "metadata": {
        "id": "N1mcCOQPwEZt"
      },
      "source": [
        "**PRINT THE PREDICTED VALUES**"
      ]
    },
    {
      "cell_type": "code",
      "metadata": {
        "colab": {
          "base_uri": "https://localhost:8080/"
        },
        "id": "UNaC3S9mv7S8",
        "outputId": "ba3df025-2a81-4590-f318-ecf399a35aab"
      },
      "source": [
        "svm_prediction = svr_rbf.predict(x_test)\n",
        "\n",
        "print(svm_prediction)\n",
        "\n",
        "print()\n",
        "#print the actual values\n",
        "print(y_test)"
      ],
      "execution_count": null,
      "outputs": [
        {
          "output_type": "stream",
          "text": [
            "[  106.25629281  3209.31839762   331.43834133  7630.69520319\n",
            "   266.5720353    434.91562587   221.02641909   463.90043317\n",
            "   420.65331709   586.07541522   582.75342204   604.88937866\n",
            "  3209.47468472   611.75547384  3235.6382364    596.21027993\n",
            "   574.63630783   228.50313225  3459.29279521  2392.72214395\n",
            "   620.89072241   738.0775798    339.31854471  2308.07130122\n",
            "  6294.03008421   116.29362086   272.75353533   358.74073673\n",
            "   632.22286001  5699.21935398  1262.3528667    648.77416948\n",
            "   234.61056805  7408.0106491   4278.40331207   277.65499063\n",
            "   503.0771267    734.6257483    106.16862748   106.18503096\n",
            "   276.77354808   232.46407436   324.57791188 11156.0511509\n",
            "   227.82777549   231.15938505   572.88366434  1007.06691108\n",
            "   229.44228578   732.72057696   113.67454755  6277.65715474\n",
            "  2339.58208677   287.42396906   106.74484805   106.5276861\n",
            "   264.35530421  5754.30247276   568.68770369   456.93063851\n",
            "   106.57147237  3189.99197821   227.23609815  7492.04274181\n",
            "   377.15544648   364.08993776   111.04384899   616.0101133\n",
            "   677.5866006    331.83834173   632.62271686   986.40654088\n",
            "  6634.63910949   123.42910855   376.19994416  3531.89310858\n",
            "  2302.48309006   231.07547409   111.96166141   691.52517582\n",
            "  6325.87081077   109.22475874   393.67183986  1012.41188585\n",
            "  1112.77019382  3915.80796306  4215.43820621   223.56245749\n",
            "  1017.84529395  2369.57101873   612.3637591    469.24377684\n",
            "   277.40033317   115.20087317   312.84251574   251.81985663\n",
            "   312.50732386   528.42409544  5606.7161815   2455.84598641\n",
            "   753.09507619   428.88233432   625.03463225   576.86968726\n",
            "  2441.72993278   192.97641452   228.96089126   609.70691752\n",
            "   523.3897611    454.50622442  2635.38493514   343.51964123\n",
            "   793.42950254   106.2851297   2369.14544832   428.56086655\n",
            "   439.11752189  6019.42189889   581.98463993   451.67803328\n",
            "   277.31540812   358.94031823   241.04631236   955.04619179\n",
            "   581.48760946   455.41137345   126.62442526   547.68498945\n",
            "   228.75615644   114.06440681   237.13734009   114.64319877\n",
            "  4184.9148184  11464.85170725  1638.84355596   793.52489106\n",
            "   633.01341894  3756.57872042   455.32198487  5606.62277365\n",
            "  8169.10752449   618.20200707   520.01568326  1018.00218218\n",
            "   509.5445851    913.8534215    909.21977239   427.68557428\n",
            "   823.60095365   230.66769616   618.57386128   365.95349051\n",
            "   110.0905574    276.94362967   252.02496305   216.00879752\n",
            "   410.67924429  1187.06293612   378.48349296   298.1967591\n",
            "   627.21153349   619.10044684   582.14139513   420.85135392\n",
            "  5613.29381877  6757.43185776   610.66231499  1094.54470095\n",
            "   461.79536669   112.59015079   595.86261765  7584.88697381\n",
            "   522.5848042    610.08463134   106.18930552   886.88834832\n",
            "   597.42887233   595.8680588    216.6611715    628.08207041\n",
            "   801.72816488   618.84436781   467.11357985   583.44195337\n",
            "   236.84152607   235.37131102  4462.37570167   369.33233616\n",
            "   234.64625689   759.0984304    216.00879752   108.82196463\n",
            "   247.24428235  3514.60000143   240.94082844   410.30984413\n",
            "   212.58961703   387.86838339   484.75263819   449.08391361\n",
            "   239.26118054   571.53368147   605.89995828   358.52126276\n",
            "   275.01493972   229.76696032   467.36896181   615.28545193\n",
            "   106.8439513    118.86911234   108.46306639   623.96624933\n",
            "   572.1104312    462.21881761  1009.72288351   296.22481571\n",
            "   240.01375225   201.64058125   421.9853652    426.88840251\n",
            "  5912.34572532   402.55422576   911.65282888   220.94087966\n",
            "  2448.71628191   428.08436274   339.48481029   410.44019936\n",
            "  2305.14256081   922.43917512   326.90147359   242.83536964\n",
            "   425.97012914  1004.15241889   604.79854674   224.48625868\n",
            "   603.15866172   621.8707861   1011.56043585   616.85990717\n",
            "   365.24770919  8320.43074205   655.33874624   121.8991502\n",
            "   647.28652946   245.5330211   6318.65155592   469.26594549\n",
            "   284.85128757  7096.45794365   746.99980701   582.9275726\n",
            "   620.31918543   927.54590586   359.31968082  2699.47391777\n",
            "   187.43981473   108.05901203   536.74874465   994.55819994\n",
            "  3374.97308266   110.21582421   229.95925807   338.01826254\n",
            "  6887.29168694   314.40832856   644.53763569  6454.7534862\n",
            "   818.16932349   876.73928784   612.35403535   554.91268285\n",
            "   611.51670382   602.39030107   329.41890018   956.35269554\n",
            "   247.82069947   111.98815966   556.34332678   603.9683222\n",
            "   230.53569352   966.35865097   602.70843839  2338.12767526\n",
            "   467.1579979    360.08902984   240.96427166   574.74443272\n",
            "   598.71335312   489.89812978   228.05701599   459.67670218\n",
            "   585.3087362    232.40430583  1018.3631248    361.95107946\n",
            "   633.99506041   596.64864357   964.9877516    573.66480578\n",
            "   595.21307197   594.18396962   346.51458799   706.09328496\n",
            "   278.41790823   243.82586636   110.8262185    406.0322586\n",
            "   234.90788798   370.58145386   425.73791461   604.93981663\n",
            "   237.83465608   275.95392127   231.26724878   247.24428235\n",
            "   340.62954087   274.42683886   192.48768965   219.59509887\n",
            "  7831.07122381   617.27506527   495.7449541    396.79207972\n",
            "   265.9698428    445.15966176   233.27615937  4025.03649246\n",
            "   612.09138808   427.18727789   434.08084648  2314.20355136\n",
            "   225.46911674   573.37086118  8093.21063889   451.04071393\n",
            "   591.69740406   232.1292716    109.73163956   427.91818468\n",
            "   696.20252809   580.24331071   261.65905381   214.62820843\n",
            "   243.98877104   665.67922373]\n",
            "\n",
            "[  131.98  2809.01   484.83 16564.     222.88   417.01   315.03   423.73\n",
            "   407.23   647.66   630.69   600.16  2726.45   610.68  2671.78   575.63\n",
            "   845.59   223.36  2817.6   2286.41   428.96   771.4    249.51  2511.81\n",
            " 17415.4    109.     224.95   386.48   492.11  6357.6   2464.58   842.72\n",
            "   281.08  8071.26  5725.59   230.28   628.78   756.13    68.43    70.28\n",
            "   217.46   263.48   281.65 17776.7    277.22   235.27   461.45   973.82\n",
            "   312.67   859.51   119.15 11607.4   2155.8    236.82   113.57   122.88\n",
            "   376.85  6130.53   819.03   617.45   117.2   4599.88   247.27 16936.8\n",
            "   447.99   411.56   103.     454.43   438.71   320.51   868.48   229.1\n",
            "  7459.69   131.72   342.42  2754.86  2552.45   267.96   120.05   715.53\n",
            "  7790.15    96.9    430.31   937.52  1102.17  3882.59  4325.13   240.3\n",
            "  1049.14  2608.72   606.97   419.41   217.11   119.     245.31   281.7\n",
            "   378.05   621.55 16477.6   2608.56   988.51   416.83   832.58   624.68\n",
            "  2601.64   137.34   310.74   608.24   622.21   515.59  4181.93   135.19\n",
            "   407.37    96.61  1537.67   373.06   461.91 14291.5    635.81   666.78\n",
            "   227.27   304.62   291.76  1007.48   624.09   527.39   131.66   885.28\n",
            "   236.15   121.2    254.32   125.91  4376.63 16099.8   1316.48   896.18\n",
            "   572.73  2718.26   424.03  5708.52  8790.92   438.82   567.29   920.38\n",
            "   601.73  1013.38  1046.21   502.5    196.44   253.     704.38   475.26\n",
            "    96.02   243.94   274.35   243.86   386.55  1182.94   314.17   220.11\n",
            "   863.22   623.98   596.55   400.19  7871.69 15599.2    672.17  1080.5\n",
            "   427.4    103.     581.7   7022.76   585.69   712.4    115.24   831.53\n",
            "   598.21   570.47   290.41   846.86   768.13   647.     417.18   640.56\n",
            "   266.38   236.46  4163.07   352.99   230.3    761.98   256.3     89.39\n",
            "   237.1   3884.71   237.28   140.52   274.8    246.06   589.37   323.05\n",
            "   236.55   626.5    598.07   377.18   230.62   266.74   636.12   606.73\n",
            "   101.7    105.14   111.5    774.25   663.25   430.57  1231.92   249.01\n",
            "   237.12   320.84   437.75   411.62  5526.64   387.54  1179.97   331.89\n",
            "  2574.79   390.41   383.62   382.3   2863.2    899.07   237.29   235.34\n",
            "   374.45  1175.83   587.8    211.08   610.86   665.3   1221.38   835.63\n",
            "   454.93  8253.69   618.99   111.5    616.75   254.26 14156.4    629.15\n",
            "   352.22 11657.2    691.96   440.67   685.56   911.2    435.79  1724.24\n",
            "   133.     101.44   455.1    892.69  2895.89   107.99   224.77   247.05\n",
            "  6618.14   375.49   636.79  6031.6    973.5    907.68   433.48   658.66\n",
            "   533.86   592.94   236.06  1274.99   230.51   121.66   826.     676.3\n",
            "   208.1    921.01   594.99  2539.32   471.24   361.19   265.08   672.86\n",
            "   591.05   576.37   231.4    417.96   182.21   224.59  1027.34   403.42\n",
            "   457.57   567.24   924.67   447.98   569.95   573.91   365.03   751.62\n",
            "   246.99   239.84   129.3    238.26   270.39   330.49   400.57   870.96\n",
            "   231.27   249.01   178.1    231.95   330.08   315.86   132.18   240.36\n",
            " 14656.2    629.37   588.87   511.98   352.54   420.95   226.39  4122.94\n",
            "   606.72   413.97   460.5   2084.73   228.17   547.47 17706.9    450.28\n",
            "   582.36   228.57   122.29   414.32   702.03   771.39   236.33   225.86\n",
            "   238.89   657.29]\n"
          ],
          "name": "stdout"
        }
      ]
    },
    {
      "cell_type": "markdown",
      "metadata": {
        "id": "bvv1AaeLw8hs"
      },
      "source": [
        "**PRINT THE MODEL PREDICTIONS FOR NEXT \"N=30\" DAYS**"
      ]
    },
    {
      "cell_type": "code",
      "metadata": {
        "colab": {
          "base_uri": "https://localhost:8080/"
        },
        "id": "ofcrZkoZwn5y",
        "outputId": "963dad78-541d-4a8d-fe2d-d8da163d133b"
      },
      "source": [
        "svm_prediction = svr_rbf.predict(prediction_days_array)\n",
        "\n",
        "#predictions for the next 30 days\n",
        "print(svm_prediction)\n",
        "\n",
        "print()\n",
        "\n",
        "#print the actual price of bitcoin for last 30 days\n",
        "print(df.tail(prediction_days))"
      ],
      "execution_count": null,
      "outputs": [
        {
          "output_type": "stream",
          "text": [
            "[114.12514151 116.53069872 115.53097518 116.34085239 112.36474679\n",
            " 110.9171573  110.43934143 110.04183679 110.03742142 110.7299424\n",
            " 110.50420368 108.73361491 107.33104732 106.74484805 108.45613708\n",
            " 107.53494425 107.60083202 108.19357227 106.97294607 107.17319548\n",
            " 106.74484805 106.89684934 107.79254788 106.9375297  107.00726565\n",
            " 106.16865156 108.12545345 120.56276146 125.12237291 117.03253029]\n",
            "\n",
            "       Price  Prediction\n",
            "1730  129.75         NaN\n",
            "1731  133.48         NaN\n",
            "1732  131.98         NaN\n",
            "1733  133.20         NaN\n",
            "1734  126.70         NaN\n",
            "1735  123.89         NaN\n",
            "1736  122.88         NaN\n",
            "1737  122.00         NaN\n",
            "1738  121.99         NaN\n",
            "1739  123.50         NaN\n",
            "1740  123.02         NaN\n",
            "1741  118.76         NaN\n",
            "1742  114.22         NaN\n",
            "1743  111.50         NaN\n",
            "1744  117.98         NaN\n",
            "1745  115.00         NaN\n",
            "1746  115.24         NaN\n",
            "1747  117.20         NaN\n",
            "1748  112.67         NaN\n",
            "1749  113.57         NaN\n",
            "1750  111.50         NaN\n",
            "1751  112.30         NaN\n",
            "1752  115.91         NaN\n",
            "1753  112.50         NaN\n",
            "1754   97.75         NaN\n",
            "1755  105.21         NaN\n",
            "1756  116.99         NaN\n",
            "1757  139.00         NaN\n",
            "1758  144.54         NaN\n",
            "1759  134.21         NaN\n"
          ],
          "name": "stdout"
        }
      ]
    },
    {
      "cell_type": "markdown",
      "metadata": {
        "id": "d2CQO3jool5e"
      },
      "source": [
        "**SECOND ALGORITHM**"
      ]
    },
    {
      "cell_type": "markdown",
      "metadata": {
        "id": "YCZM9VuZV2YO"
      },
      "source": [
        "**APPLYING SIMPLE LINEAR REGRESSION**"
      ]
    },
    {
      "cell_type": "code",
      "metadata": {
        "colab": {
          "base_uri": "https://localhost:8080/"
        },
        "id": "grxERUk5V6b-",
        "outputId": "b7a5a139-d444-42bc-d816-1a3371b27fab"
      },
      "source": [
        "from sklearn import linear_model\n",
        "reg = linear_model.LinearRegression()\n",
        "reg.fit(x_train, y_train)"
      ],
      "execution_count": null,
      "outputs": [
        {
          "output_type": "execute_result",
          "data": {
            "text/plain": [
              "LinearRegression(copy_X=True, fit_intercept=True, n_jobs=None, normalize=False)"
            ]
          },
          "metadata": {
            "tags": []
          },
          "execution_count": 28
        }
      ]
    },
    {
      "cell_type": "markdown",
      "metadata": {
        "id": "V1tN9oH4qwjl"
      },
      "source": [
        "**TEST THE MODEL**"
      ]
    },
    {
      "cell_type": "code",
      "metadata": {
        "colab": {
          "base_uri": "https://localhost:8080/"
        },
        "id": "KLRMIYrScjIq",
        "outputId": "6ad751a9-1664-4591-e071-8497367166b8"
      },
      "source": [
        "reg_confidence = reg.score(x_test, y_test)\n",
        "print(reg_confidence)"
      ],
      "execution_count": null,
      "outputs": [
        {
          "output_type": "stream",
          "text": [
            "0.756966320775146\n"
          ],
          "name": "stdout"
        }
      ]
    },
    {
      "cell_type": "code",
      "metadata": {
        "colab": {
          "base_uri": "https://localhost:8080/"
        },
        "id": "UVrsqrMCcGFO",
        "outputId": "cffba8c0-49ba-4472-f7fb-c6c35df5ab31"
      },
      "source": [
        "reg.coef_"
      ],
      "execution_count": null,
      "outputs": [
        {
          "output_type": "execute_result",
          "data": {
            "text/plain": [
              "array([0.83563094])"
            ]
          },
          "metadata": {
            "tags": []
          },
          "execution_count": 30
        }
      ]
    },
    {
      "cell_type": "markdown",
      "metadata": {
        "id": "ii6-D3V5o1Pc"
      },
      "source": [
        "**PRINT THE PREDICTED VALUES**"
      ]
    },
    {
      "cell_type": "code",
      "metadata": {
        "colab": {
          "base_uri": "https://localhost:8080/"
        },
        "id": "EEXpRhoVcIzO",
        "outputId": "83e89b81-8a41-4508-c998-cd9852dfa8cf"
      },
      "source": [
        "reg_predict = reg.predict(x_test)\n",
        "print(reg_predict)"
      ],
      "execution_count": null,
      "outputs": [
        {
          "output_type": "stream",
          "text": [
            "[  169.26085581  3745.87825535   359.23319308 12083.23551766\n",
            "   305.86144512   442.48710335   273.07128714   464.18008248\n",
            "   431.72417688   578.18521124   573.64773525   606.93091548\n",
            "  3745.69441654   618.52947289  3720.40822438   593.03437299\n",
            "   563.19399223   278.21877372  3587.79359465  2156.47478756\n",
            "   634.30618498   776.91496072   365.97673474  2257.41900478\n",
            " 11285.7093512    194.65568      310.62454146   382.43030789\n",
            "   653.40870821 14236.32219045  1753.71738845   678.71161299\n",
            "   282.48049149 13288.80027076  6196.49967963   314.46008746\n",
            "   494.37142824   773.63928745   171.26637006   172.16885148\n",
            "   313.76651378   280.97635581   353.35870759  9672.18957457\n",
            "   277.75082039   280.06551809   561.04642072  1081.07626556\n",
            "   278.87056585   771.82596832   191.20452422  8900.81865644\n",
            "  2216.31431898   322.25652411   176.58098282   175.45288106\n",
            "   304.17347062  8346.6365752    556.04934771   458.95738912\n",
            "   166.97122705  3782.65437289   277.34136123 12595.56084526\n",
            "   397.63043464   386.8925771    187.15171418   625.86631252\n",
            "   715.33731696   359.57580176   654.06050034  1045.3613993\n",
            " 13929.31138412   202.52732342   396.85329787  3552.54668172\n",
            "  2316.03015871   280.00702392   188.65584987   730.72963883\n",
            " 16055.8249931    183.72562734   410.85847238  1092.19015702\n",
            "  1297.42947151  4802.39151817  3327.82045378   274.80939949\n",
            "  1104.59092013  2385.45437697   619.57401156   468.19946729\n",
            "   314.25953604   193.26853264   343.35620527   294.82276044\n",
            "   343.07209075   515.62987928  6562.89042035  2801.64036524\n",
            "   791.0705488    437.94962736   641.40904795   565.98499956\n",
            "  2427.12729181   254.20274058   278.53631347   615.02817926\n",
            "   511.23446055   457.14406999  2719.78195864   369.56159146\n",
            "   829.27559525   173.64791823  2185.3124112    437.70729439\n",
            "   445.63743198 14648.0375532    572.6199092    455.02992372\n",
            "   314.19268556   382.59743408   287.0346801   1002.79435936\n",
            "   571.95976076   457.82093105   205.61915789   533.5708755\n",
            "   278.39425621   191.74768433   284.26038539   192.53317741\n",
            "  3123.03238     9492.1111076   1884.86130774   829.36751465\n",
            "   654.69557985  4013.70632703   457.75408057  6593.09847873\n",
            " 11804.46903701   629.66007697   508.34317751  1104.96695405\n",
            "   499.61083422   954.88763773   949.74015116   437.04714595\n",
            "   858.95720614   279.7229094    630.30351279   388.43849433\n",
            "   185.44702707   313.90021473   294.97317401   269.65355661\n",
            "   424.10322273  1532.76821235   398.70839855   331.07243049\n",
            "   645.09418038   631.21435052   572.82881693   431.87459045\n",
            " 16376.03876823  7750.24677533   616.65765959  1271.34107365\n",
            "   462.60074001   189.62518175   592.49956919 12025.82767228\n",
            "   510.54088687   615.67161508   172.2774835    925.28958993\n",
            "   594.92289891   592.5079255    270.09644101   646.55653452\n",
            "   837.31436487   630.77146612   466.59505589   574.57528559\n",
            "   284.05147766   283.01529529  5225.7555762    391.22950166\n",
            "   282.50556042   796.71105763   269.65355661   182.84821485\n",
            "   291.488593    3560.69408336   286.95947332   423.81910821\n",
            "   267.33885891   406.25414591   479.99857612   453.09125994\n",
            "   285.76452108   559.41694039   608.61053366   382.24646909\n",
            "   312.38772274   279.0961862    466.787251     624.61286611\n",
            "   165.71778064   197.69737661   182.01258392   639.58737251\n",
            "   560.11051407   462.91827976  1086.47444141   329.44295017\n",
            "   286.29932488   259.98530667   432.73529031   436.44549167\n",
            "  6800.85304234   417.81927808   952.43923908   273.01279298\n",
            "  2430.70379222   437.34797309   366.118792     423.91938392\n",
            "  2263.20157086   964.51410613   355.34750922   288.31319544\n",
            "   435.751918    1075.4106878    606.78050191   275.444479\n",
            "   604.08141398   635.99415948  1090.35176896   627.33702297\n",
            "   387.85355268 11720.23743855   687.79492127   145.712776\n",
            "   676.5807541    290.25185921  8528.54507392   468.21617991\n",
            "   320.18415938 12785.83400966   785.33812057   573.88171191\n",
            "   633.32014048   970.30502852   382.91497384  2555.29636496\n",
            "   250.50925184   162.05771714   523.14220141  1058.35546037\n",
            "  3913.07129326   185.68100373   279.22988715   364.86534559\n",
            " 12998.41852008   344.68485846   672.5697256   6936.11662214\n",
            "   853.51724874   914.34282466   619.55729894   540.89100251\n",
            "   618.12001373   602.82796758   357.50343704  1004.41548338\n",
            "   291.90640847   188.69763141   542.38678189   605.41006717\n",
            "   279.63099     1017.17556779   603.34605876  2361.71410205\n",
            "   466.62848112   383.55840966   286.97618594   563.32769318\n",
            "   596.93676947   483.97617938   277.90959027   461.01304123\n",
            "   577.12395995   280.93457426  1105.83601022   385.1126832\n",
            "   656.28327863   593.71123405  1015.38731758   561.99903999\n",
            "   591.50516838   589.94253853   372.11026582   745.82113355\n",
            "   315.06174174   289.02348173   156.98543735   420.51836601\n",
            "   282.68939923   392.25732771   435.5764355    607.01447857\n",
            "   284.75340764   313.12307796   280.14072487   291.488593\n",
            "   367.0964802    311.92812572   253.87684451   272.09359895\n",
            "  9932.40504841   628.05566557   488.54708061   413.31522733\n",
            "   305.4018481    450.15819535   281.54458485  4079.38691869\n",
            "   619.10605824   436.67111203   441.86038015  2247.35800829\n",
            "   276.12134006   561.63971868 11591.7174004    454.55361408\n",
            "   586.23233717   280.74237915   158.7235497    437.22262844\n",
            "   735.66821766   570.32192412   302.13453114   268.71764996\n",
            "   289.14047006   701.14830365]\n"
          ],
          "name": "stdout"
        }
      ]
    },
    {
      "cell_type": "markdown",
      "metadata": {
        "id": "bztkQYXmpEHk"
      },
      "source": [
        "**PRINT THE MODEL PREDICTIONS FOR NEXT \"N=30\" DAYS**"
      ]
    },
    {
      "cell_type": "code",
      "metadata": {
        "colab": {
          "base_uri": "https://localhost:8080/"
        },
        "id": "87l0AY14dRT2",
        "outputId": "88adad0c-2a0c-4f58-f31d-432a25e64b62"
      },
      "source": [
        "reg_prediction = reg.predict(prediction_days_array)\n",
        "\n",
        "#predictions for the next 30 days\n",
        "print(reg_prediction)\n",
        "\n",
        "print()\n",
        "\n",
        "#print the actual price of bitcoin for last 30 days\n",
        "print(df.tail(prediction_days))"
      ],
      "execution_count": null,
      "outputs": [
        {
          "output_type": "stream",
          "text": [
            "[191.83124743 194.94815082 193.69470442 194.71417416 189.28257307\n",
            " 186.93445014 186.09046289 185.35510766 185.34675136 186.60855407\n",
            " 186.20745122 182.64766343 178.85389897 176.58098282 181.9958713\n",
            " 179.5056911  179.70624253 181.34407917 177.55867102 178.31073886\n",
            " 176.58098282 177.24948757 180.26611526 177.41661376 165.09105744\n",
            " 171.32486423 181.16859667 199.5608336  204.19022899 195.55816141]\n",
            "\n",
            "       Price  Prediction\n",
            "1730  129.75         NaN\n",
            "1731  133.48         NaN\n",
            "1732  131.98         NaN\n",
            "1733  133.20         NaN\n",
            "1734  126.70         NaN\n",
            "1735  123.89         NaN\n",
            "1736  122.88         NaN\n",
            "1737  122.00         NaN\n",
            "1738  121.99         NaN\n",
            "1739  123.50         NaN\n",
            "1740  123.02         NaN\n",
            "1741  118.76         NaN\n",
            "1742  114.22         NaN\n",
            "1743  111.50         NaN\n",
            "1744  117.98         NaN\n",
            "1745  115.00         NaN\n",
            "1746  115.24         NaN\n",
            "1747  117.20         NaN\n",
            "1748  112.67         NaN\n",
            "1749  113.57         NaN\n",
            "1750  111.50         NaN\n",
            "1751  112.30         NaN\n",
            "1752  115.91         NaN\n",
            "1753  112.50         NaN\n",
            "1754   97.75         NaN\n",
            "1755  105.21         NaN\n",
            "1756  116.99         NaN\n",
            "1757  139.00         NaN\n",
            "1758  144.54         NaN\n",
            "1759  134.21         NaN\n"
          ],
          "name": "stdout"
        }
      ]
    },
    {
      "cell_type": "markdown",
      "metadata": {
        "id": "FVZc52rzpHlC"
      },
      "source": [
        "**THIRD ALGORITHM**"
      ]
    },
    {
      "cell_type": "markdown",
      "metadata": {
        "id": "eRr5_LVCdygg"
      },
      "source": [
        "**APPLYING DECISION TREE REGRESSION**"
      ]
    },
    {
      "cell_type": "code",
      "metadata": {
        "colab": {
          "base_uri": "https://localhost:8080/"
        },
        "id": "Hb4Lolafd4s-",
        "outputId": "2808cd9d-2754-4bdf-e59b-0ff9eaf7065b"
      },
      "source": [
        "from sklearn.tree import DecisionTreeRegressor\n",
        "dtreg = DecisionTreeRegressor()\n",
        "dtreg.fit(x_train, y_train)"
      ],
      "execution_count": null,
      "outputs": [
        {
          "output_type": "execute_result",
          "data": {
            "text/plain": [
              "DecisionTreeRegressor(ccp_alpha=0.0, criterion='mse', max_depth=None,\n",
              "                      max_features=None, max_leaf_nodes=None,\n",
              "                      min_impurity_decrease=0.0, min_impurity_split=None,\n",
              "                      min_samples_leaf=1, min_samples_split=2,\n",
              "                      min_weight_fraction_leaf=0.0, presort='deprecated',\n",
              "                      random_state=None, splitter='best')"
            ]
          },
          "metadata": {
            "tags": []
          },
          "execution_count": 33
        }
      ]
    },
    {
      "cell_type": "markdown",
      "metadata": {
        "id": "9SfZi8FGq1gW"
      },
      "source": [
        "**TEST THE MODEL**"
      ]
    },
    {
      "cell_type": "code",
      "metadata": {
        "colab": {
          "base_uri": "https://localhost:8080/"
        },
        "id": "PpbRDSp-gkVX",
        "outputId": "d34c1421-1c5b-4add-8805-0fbd671fa5ad"
      },
      "source": [
        "dtreg_confidence = dtreg.score(x_test, y_test)\n",
        "print(dtreg_confidence)"
      ],
      "execution_count": null,
      "outputs": [
        {
          "output_type": "stream",
          "text": [
            "0.8083073184057454\n"
          ],
          "name": "stdout"
        }
      ]
    },
    {
      "cell_type": "markdown",
      "metadata": {
        "id": "7uevuEiMpVKj"
      },
      "source": [
        "**PRINT THE PREDICTED VALUES**"
      ]
    },
    {
      "cell_type": "code",
      "metadata": {
        "colab": {
          "base_uri": "https://localhost:8080/"
        },
        "id": "LhKVDgh0gyho",
        "outputId": "656dffc2-a8e0-4902-9358-10fafb1ad632"
      },
      "source": [
        "dtreg_predict = dtreg.predict(x_test)\n",
        "print(dtreg_predict)"
      ],
      "execution_count": null,
      "outputs": [
        {
          "output_type": "stream",
          "text": [
            "[   86.76   2228.41    357.84  10975.6     227.09    363.18    274.47\n",
            "   424.28    435.12    448.9     655.56    840.     2228.41    576.6\n",
            "  4703.39    626.27    655.05    226.68   4382.66   2038.87    569.19\n",
            "   262.5     130.69   2686.81  11074.6     135.35    226.85    313.86\n",
            "   799.11   8200.64   1210.29    641.63    264.47   9818.35   4328.41\n",
            "   244.3     495.77    818.72     93.59     88.05    244.3     245.59\n",
            "   376.9   19140.8     236.93    275.83    623.03   1061.35    199.26\n",
            "   781.48    125.6   13925.8    1987.71    234.82     98.4      97.45\n",
            "   287.46   5753.09    556.14    418.09    118.76   4578.77    222.6\n",
            " 11323.2     382.56    361.56    136.77    577.47   1129.43    270.64\n",
            "   799.11   1038.15   6635.75    129.22    477.43   2273.43   2689.1\n",
            "   264.08    105.      186.69   7708.99     94.12    417.27   1054.23\n",
            "  1143.81   3637.52   2357.9     257.98    988.67   2480.84    630.23\n",
            "   549.26    244.3     113.5     229.98    236.43    229.98    631.11\n",
            "  5590.69   2518.66    673.41    432.52    436.4     452.73   1755.36\n",
            "   114.13    237.6     605.24    593.85    460.27   2518.66    352.94\n",
            "   339.11    117.98   2823.81    407.71    379.47   5950.07    458.54\n",
            "   424.23    244.3     423.2     210.34   1063.07    174.61    451.94\n",
            "   130.37    450.3     334.57    105.21    234.18    127.11   4100.52\n",
            " 12899.2    1231.71    339.11    799.11   4226.06    451.94   5590.69\n",
            " 16408.2     602.63    601.09    988.67    571.49    206.22    908.59\n",
            "   358.04    921.98    278.58    655.27    634.11    112.5     244.3\n",
            "   236.43    234.93    364.33   1172.52    508.52    126.      455.67\n",
            "   530.04    658.08    376.03   7708.99  14982.1     609.87   1143.81\n",
            "   466.09    123.3     575.47  10975.6     593.85    609.24     88.05\n",
            "   821.8     606.59    575.47    260.93    797.82    774.65    673.34\n",
            "   420.35    649.36    211.31    247.85   4338.71    434.33    264.47\n",
            "  1045.11    234.93    106.75    233.13   2273.43    210.34    364.33\n",
            "   265.66    320.56    589.33    441.39    243.61    655.03    607.96\n",
            "   313.86    222.27    224.63    420.35    526.23     99.99    133.49\n",
            "    94.51    823.83    655.03    365.18   1054.23    219.84    253.83\n",
            "   273.61    438.8     380.15   6011.45    389.59   1115.3     274.47\n",
            "  2705.41    416.44    130.69    364.33   2304.98   1054.42    375.07\n",
            "   129.      381.65   1004.55    840.      271.605   870.2     766.31\n",
            "  1054.23    660.62    634.11  16408.2     193.76    108.3     617.12\n",
            "   275.67   6153.85    549.26    235.14   7143.58    872.6     655.56\n",
            "   600.83    902.83    423.2    1848.57    311.4     102.74    500.46\n",
            "  1249.61   2757.18     97.75    221.61    251.99  11916.7     236.69\n",
            "   638.65   5930.32    864.54    818.41    630.23    619.32    623.68\n",
            "   602.27    368.37   1063.07    233.13    105.      619.32    656.14\n",
            "   278.58   1063.07    650.92   2744.91    420.35    477.59    210.34\n",
            "   655.05    616.63    609.89    322.53    311.08    650.96    214.86\n",
            "   988.67    238.73    606.17    446.26   1063.07    673.11    446.18\n",
            "   703.7     376.13    740.98    250.9     235.98    108.9     455.65\n",
            "   227.18    357.62    421.69    840.      236.15    350.51    275.83\n",
            "   233.13    130.59    244.61    114.13    247.53   7379.95    841.2\n",
            "   623.9     475.37    285.83    449.42    225.81   4226.06    630.23\n",
            "   358.04    395.54   2202.42    261.55    623.03  19497.4     332.91\n",
            "   520.22    264.78    107.4     416.44    705.05    571.59    232.97\n",
            "   292.69    235.98    657.59 ]\n"
          ],
          "name": "stdout"
        }
      ]
    },
    {
      "cell_type": "markdown",
      "metadata": {
        "id": "rM4nwcO8pY5o"
      },
      "source": [
        "**PRINT THE MODEL PREDICTIONS FOR NEXT \"N=30\" DAYS**"
      ]
    },
    {
      "cell_type": "code",
      "metadata": {
        "colab": {
          "base_uri": "https://localhost:8080/"
        },
        "id": "uf1y9wg2hD02",
        "outputId": "44e33c02-e47e-4c99-a743-5f0e1625466e"
      },
      "source": [
        "dtreg_prediction = dtreg.predict(prediction_days_array)\n",
        "\n",
        "#predictions for the next 30 days\n",
        "print(dtreg_prediction)\n",
        "\n",
        "print()\n",
        "\n",
        "#print the actual price of bitcoin for last 30 days\n",
        "print(df.tail(prediction_days))"
      ],
      "execution_count": null,
      "outputs": [
        {
          "output_type": "stream",
          "text": [
            "[105.21  106.09  138.34  135.35  106.22  136.77  101.2   112.5   112.5\n",
            " 136.77   91.61   94.51  135.85   98.4    94.51  135.85  135.85   94.51\n",
            "  98.4    91.375  98.4    98.4   135.85   98.4    99.51   93.59   94.51\n",
            " 104.5   130.37  122.62 ]\n",
            "\n",
            "       Price  Prediction\n",
            "1730  129.75         NaN\n",
            "1731  133.48         NaN\n",
            "1732  131.98         NaN\n",
            "1733  133.20         NaN\n",
            "1734  126.70         NaN\n",
            "1735  123.89         NaN\n",
            "1736  122.88         NaN\n",
            "1737  122.00         NaN\n",
            "1738  121.99         NaN\n",
            "1739  123.50         NaN\n",
            "1740  123.02         NaN\n",
            "1741  118.76         NaN\n",
            "1742  114.22         NaN\n",
            "1743  111.50         NaN\n",
            "1744  117.98         NaN\n",
            "1745  115.00         NaN\n",
            "1746  115.24         NaN\n",
            "1747  117.20         NaN\n",
            "1748  112.67         NaN\n",
            "1749  113.57         NaN\n",
            "1750  111.50         NaN\n",
            "1751  112.30         NaN\n",
            "1752  115.91         NaN\n",
            "1753  112.50         NaN\n",
            "1754   97.75         NaN\n",
            "1755  105.21         NaN\n",
            "1756  116.99         NaN\n",
            "1757  139.00         NaN\n",
            "1758  144.54         NaN\n",
            "1759  134.21         NaN\n"
          ],
          "name": "stdout"
        }
      ]
    },
    {
      "cell_type": "markdown",
      "metadata": {
        "id": "mES6Six8pc6t"
      },
      "source": [
        "**FOURTH ALGORITHM**"
      ]
    },
    {
      "cell_type": "markdown",
      "metadata": {
        "id": "9dJkLG3Cj0jQ"
      },
      "source": [
        "**APPLYING KNN REGRESSION MODEL**"
      ]
    },
    {
      "cell_type": "code",
      "metadata": {
        "colab": {
          "base_uri": "https://localhost:8080/"
        },
        "id": "Lv9TrkUFlW8R",
        "outputId": "863e2ce8-4ac0-433d-dc44-a86ddf249c07"
      },
      "source": [
        "from sklearn.neighbors import KNeighborsRegressor\n",
        "knnreg = KNeighborsRegressor()\n",
        "knnreg.fit(x_train, y_train)"
      ],
      "execution_count": null,
      "outputs": [
        {
          "output_type": "execute_result",
          "data": {
            "text/plain": [
              "KNeighborsRegressor(algorithm='auto', leaf_size=30, metric='minkowski',\n",
              "                    metric_params=None, n_jobs=None, n_neighbors=5, p=2,\n",
              "                    weights='uniform')"
            ]
          },
          "metadata": {
            "tags": []
          },
          "execution_count": 37
        }
      ]
    },
    {
      "cell_type": "markdown",
      "metadata": {
        "id": "K3cPPXdsq4Rp"
      },
      "source": [
        "**TEST THE MODEL**"
      ]
    },
    {
      "cell_type": "code",
      "metadata": {
        "colab": {
          "base_uri": "https://localhost:8080/"
        },
        "id": "LhWK9KBWmAXw",
        "outputId": "70031945-dc69-48bc-db02-ab3958e08c6e"
      },
      "source": [
        "knnreg_confidence = knnreg.score(x_test, y_test)\n",
        "print(knnreg_confidence)"
      ],
      "execution_count": null,
      "outputs": [
        {
          "output_type": "stream",
          "text": [
            "0.870027146254525\n"
          ],
          "name": "stdout"
        }
      ]
    },
    {
      "cell_type": "markdown",
      "metadata": {
        "id": "_kyu_9VrpiRe"
      },
      "source": [
        "**PRINT THE PREDICTED VALUES**"
      ]
    },
    {
      "cell_type": "code",
      "metadata": {
        "colab": {
          "base_uri": "https://localhost:8080/"
        },
        "id": "im-e0m5YmQjq",
        "outputId": "eba46407-50fb-437c-b65c-f5712d738dea"
      },
      "source": [
        "knnreg_predict = knnreg.predict(x_test)\n",
        "print(knnreg_predict)"
      ],
      "execution_count": null,
      "outputs": [
        {
          "output_type": "stream",
          "text": [
            "[  101.882  3492.186   351.272 10883.436   266.878   401.43    266.65\n",
            "   364.49    412.292   563.998   613.492   682.01   3492.186   608.728\n",
            "  3345.064   569.864   579.972   264.128  3767.616  1898.078   594.078\n",
            "   733.074   274.204  2407.846 12972.41    129.388   246.85    351.442\n",
            "   731.11   8783.07   1499.542   628.34    243.41   8953.734  4462.216\n",
            "   297.342   479.87    692.362   100.084    91.85    287.296   245.556\n",
            "   350.772 14641.16    268.662   255.44    608.91   1101.278   243.534\n",
            "   796.844   127.088 11987.84   2347.952   259.776   100.498   105.906\n",
            "   282.84   8704.608   624.758   435.182   109.128  3488.516   261.4\n",
            " 10314.472   405.152   398.318   106.466   587.014   829.87    351.272\n",
            "   735.236   977.868  9459.166   126.512   379.704  3828.326  2026.972\n",
            "   255.44    108.376   521.382  9621.02    100.62    435.098  1051.542\n",
            "  1131.262  3767.122  3836.516   232.544  1037.798  2286.788   608.728\n",
            "   519.99    288.554   125.54    292.146   261.016   292.146   613.694\n",
            "  7429.954  2463.758   772.114   426.814   603.992   534.302  2290.106\n",
            "   239.2     244.548   632.19    606.038   483.94   2329.784   322.704\n",
            "   689.608   122.51   2287.812   426.814   367.502  9269.236   506.952\n",
            "   410.968   288.554   318.302   232.156   899.758   499.954   435.23\n",
            "   126.512   529.756   264.128   115.486   230.738   119.67   3870.834\n",
            " 13602.372  1549.128   689.608   735.668  3882.992   435.23   7677.234\n",
            " 13241.87    560.416   597.5    1037.798   590.416   651.158   717.846\n",
            "   383.944   818.518   253.186   607.306   408.35    105.31    287.296\n",
            "   261.59    268.508   431.366  1184.768   397.366   238.3     660.978\n",
            "   549.656   603.142   404.456  9621.02  12828.8     611.184  1065.83\n",
            "   462.876   119.386   593.344 12557.322   606.038   617.04     91.85\n",
            "   726.648   566.304   593.344   256.864   660.978   791.762   592.788\n",
            "   433.35    643.49    235.516   242.446  4190.662   378.23    243.41\n",
            "   786.85    268.508    96.34    260.67   3484.166   232.156   449.122\n",
            "   271.914   402.062   546.292   452.35    243.424   521.676   643.794\n",
            "   351.442   286.082   243.534   432.09    605.61    104.234   116.622\n",
            "    96.34    626.138   521.676   403.16   1054.718   259.042   238.262\n",
            "   266.632   362.028   379.782  7507.26    477.48    649.844   266.65\n",
            "  2290.106   419.992   274.204   431.366  2407.846  1016.25    282.288\n",
            "   225.66    486.192  1101.278   682.01    260.46    632.02    717.48\n",
            "  1051.542   650.008   429.268 13241.87    622.772   113.988   588.662\n",
            "   262.226  9791.71    519.99    248.178 10720.09    772.114   651.656\n",
            "   601.81   1030.952   318.302  2053.79    167.266   114.394   552.664\n",
            "  1099.742  3047.226   105.31    229.982   300.414 11076.006   292.146\n",
            "   448.986 11537.324   889.522   843.968   608.728   646.362   608.728\n",
            "   660.922   372.016  1111.314   253.018   108.376   723.412   599.416\n",
            "   253.186   757.548   660.922  2164.968   432.09    318.302   232.156\n",
            "   579.972   570.72    548.46    271.662   441.928   598.756   256.872\n",
            "  1037.798   336.292   706.832   569.878   757.548   608.914   553.112\n",
            "   648.074   392.46    542.224   251.18    215.31    108.46    466.47\n",
            "   249.384   386.32    496.904   682.01    235.706   287.296   255.44\n",
            "   260.67    269.698   261.35    200.744   274.902 12876.912   622.292\n",
            "   572.114   420.344   266.878   408.018   224.594  3749.338   608.728\n",
            "   378.732   408.806  2507.974   268.734   608.914 13241.87    417.246\n",
            "   571.86    263.32    108.85    419.992   732.904   592.38    230.168\n",
            "   268.928   237.532   605.834]\n"
          ],
          "name": "stdout"
        }
      ]
    },
    {
      "cell_type": "markdown",
      "metadata": {
        "id": "f67PF-ItpmDE"
      },
      "source": [
        "**PRINT THE MODEL PREDICTIONS FOR NEXT \"N=30\" DAYS**"
      ]
    },
    {
      "cell_type": "code",
      "metadata": {
        "colab": {
          "base_uri": "https://localhost:8080/"
        },
        "id": "5Yk5VHx7mZEJ",
        "outputId": "5edca867-9621-4e57-d5d8-75629be76724"
      },
      "source": [
        "knnreg_prediction = knnreg.predict(prediction_days_array)\n",
        "\n",
        "#predictions for the next 30 days\n",
        "print(knnreg_prediction)\n",
        "\n",
        "print()\n",
        "\n",
        "#print the actual price of bitcoin for last 30 days\n",
        "print(df.tail(prediction_days))"
      ],
      "execution_count": null,
      "outputs": [
        {
          "output_type": "stream",
          "text": [
            "[113.886 129.388 129.046 129.388 112.036 107.966 107.966 108.252 108.252\n",
            " 107.966 107.966  96.34  102.89  100.498  96.34  102.302 102.302 104.362\n",
            " 102.89  102.89  100.498 102.89  103.972 102.89  107.29  100.084 104.362\n",
            " 121.238 126.512 119.358]\n",
            "\n",
            "       Price  Prediction\n",
            "1730  129.75         NaN\n",
            "1731  133.48         NaN\n",
            "1732  131.98         NaN\n",
            "1733  133.20         NaN\n",
            "1734  126.70         NaN\n",
            "1735  123.89         NaN\n",
            "1736  122.88         NaN\n",
            "1737  122.00         NaN\n",
            "1738  121.99         NaN\n",
            "1739  123.50         NaN\n",
            "1740  123.02         NaN\n",
            "1741  118.76         NaN\n",
            "1742  114.22         NaN\n",
            "1743  111.50         NaN\n",
            "1744  117.98         NaN\n",
            "1745  115.00         NaN\n",
            "1746  115.24         NaN\n",
            "1747  117.20         NaN\n",
            "1748  112.67         NaN\n",
            "1749  113.57         NaN\n",
            "1750  111.50         NaN\n",
            "1751  112.30         NaN\n",
            "1752  115.91         NaN\n",
            "1753  112.50         NaN\n",
            "1754   97.75         NaN\n",
            "1755  105.21         NaN\n",
            "1756  116.99         NaN\n",
            "1757  139.00         NaN\n",
            "1758  144.54         NaN\n",
            "1759  134.21         NaN\n"
          ],
          "name": "stdout"
        }
      ]
    },
    {
      "cell_type": "markdown",
      "metadata": {
        "id": "t25qgVUAnKPP"
      },
      "source": [
        "**ACCURACY SCORES OF ALL THE MODELS ARE**"
      ]
    },
    {
      "cell_type": "code",
      "metadata": {
        "colab": {
          "base_uri": "https://localhost:8080/"
        },
        "id": "AseZVNXBmjv2",
        "outputId": "84faa2fa-0aa5-4495-f56b-da3d713ba67c"
      },
      "source": [
        "#accuracy score of SVR\n",
        "print(\"Accuracy score of SVR : \",svr_rbf_confidence)\n",
        "#accuracy score of simple linear regression\n",
        "print(\"Accuracy score of simple linear regression : \",reg_confidence)\n",
        "#accuracy score of decision tree regression\n",
        "print(\"Accuracy score of decision tree regression : \",dtreg_confidence)\n",
        "#accuracy score of knn regression\n",
        "print(\"Accuracy score of KNN regression : \",knnreg_confidence)"
      ],
      "execution_count": null,
      "outputs": [
        {
          "output_type": "stream",
          "text": [
            "Accuracy score of SVR :  0.737848976267161\n",
            "Accuracy score of simple linear regression :  0.756966320775146\n",
            "Accuracy score of decision tree regression :  0.8083073184057454\n",
            "Accuracy score of KNN regression :  0.870027146254525\n"
          ],
          "name": "stdout"
        }
      ]
    },
    {
      "cell_type": "markdown",
      "metadata": {
        "id": "BGKxf2aaOFVp"
      },
      "source": [
        "**VISUALIZATION OF ALGORITHMS COMPARISON BASED ON ACCURACY**"
      ]
    },
    {
      "cell_type": "code",
      "metadata": {
        "colab": {
          "base_uri": "https://localhost:8080/",
          "height": 790
        },
        "id": "dndR9sX6OCOt",
        "outputId": "37965949-18ba-41d3-aa5f-8c535b369712"
      },
      "source": [
        "scores = [svr_rbf_confidence, reg_confidence, dtreg_confidence, knnreg_confidence]\n",
        "algorithms = [\"Support Vector Machine\", \"Simple Linear Regression\", \"Decision Tree Regression\", \"K-Nearest Neighbors\"]\n",
        "sns.set(rc={'figure.figsize':(10,12)})\n",
        "plt.xlabel(\"Algorithms\")\n",
        "plt.ylabel(\"Accuracy Score\")\n",
        "sns.barplot(algorithms, scores)"
      ],
      "execution_count": null,
      "outputs": [
        {
          "output_type": "stream",
          "text": [
            "/usr/local/lib/python3.6/dist-packages/seaborn/_decorators.py:43: FutureWarning: Pass the following variables as keyword args: x, y. From version 0.12, the only valid positional argument will be `data`, and passing other arguments without an explicit keyword will result in an error or misinterpretation.\n",
            "  FutureWarning\n"
          ],
          "name": "stderr"
        },
        {
          "output_type": "execute_result",
          "data": {
            "text/plain": [
              "<matplotlib.axes._subplots.AxesSubplot at 0x7f825ca53630>"
            ]
          },
          "metadata": {
            "tags": []
          },
          "execution_count": 43
        },
        {
          "output_type": "display_data",
          "data": {
            "image/png": "[encoded data removed]",
            "text/plain": [
              "<Figure size 720x864 with 1 Axes>"
            ]
          },
          "metadata": {
            "tags": []
          }
        }
      ]
    }
  ]
}